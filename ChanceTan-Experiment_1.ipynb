{
 "cells": [
  {
   "cell_type": "code",
   "execution_count": 54,
   "id": "c7944c6e-8eb6-4e0f-bad7-45ae9fd9f2a1",
   "metadata": {},
   "outputs": [
    {
     "name": "stdin",
     "output_type": "stream",
     "text": [
      "Please enter a word:  pokemon\n"
     ]
    },
    {
     "name": "stdout",
     "output_type": "stream",
     "text": [
      "ekmnoop\n"
     ]
    }
   ],
   "source": [
    "def sortstring(): # define a function\n",
    "    \n",
    "    # Allow user to input any word\n",
    "    user_input = input(\"Please enter a word: \")\n",
    "    \n",
    "    # Sort the characters in the input string and used sorted() function to sort strings into alphabetical order, then join them back together. Utilize syntax .join to link the user's inputted string\n",
    "    sorted_string = ''.join(sorted(user_input))\n",
    "    \n",
    "    return sorted_string\n",
    "\n",
    "# Print the final result\n",
    "print(sortstring())\n"
   ]
  },
  {
   "cell_type": "code",
   "execution_count": 68,
   "id": "bf1afc1a-677c-4f81-8969-1a0d259eca7e",
   "metadata": {},
   "outputs": [
    {
     "name": "stdin",
     "output_type": "stream",
     "text": [
      "Type a sentence:  ur smile\n"
     ]
    },
    {
     "name": "stdout",
     "output_type": "stream",
     "text": [
      "ur :)\n"
     ]
    }
   ],
   "source": [
    "def replace_emoticons(sentence):\n",
    "    \n",
    "    # Define a element words to emoticons\n",
    "    emoticons = {\n",
    "        \"smile\": \":)\",\n",
    "        \"grin\": \":D\",\n",
    "        \"sad\": \":((\",\n",
    "        \"mad\": \">:(\"\n",
    "    }\n",
    "\n",
    "    # Use split syntax for the sentence to separate into words\n",
    "    words = sentence.split()\n",
    "    \n",
    "    # Define a new list to store the modified sentence\n",
    "    new_sentence = []\n",
    "    \n",
    "    # Iterate over each word in the list\n",
    "    for word in words:\n",
    "        # Use if loop to check if the word is in the emoticons elements\n",
    "        if word in emoticons:\n",
    "            # Append the corresponding emoticon to the new_sentence list\n",
    "            new_sentence.append(emoticons[word])\n",
    "            # Include the original word to the new_sentence list\n",
    "        else:\n",
    "            new_sentence.append(word)\n",
    "    \n",
    "    # Join the list into a single string with spaces and return it, utilize syntax .join to concatenate the user's inputted string \n",
    "    return \" \".join(new_sentence)\n",
    "\n",
    "# You should prompt the user for input and pass that input to the function\n",
    "user_input = input(\"Type a sentence: \")\n",
    "print(replace_emoticons(user_input))\n"
   ]
  },
  {
   "cell_type": "code",
   "execution_count": 80,
   "id": "d82938b4-a382-4786-8a0b-9c5b4fd6959a",
   "metadata": {},
   "outputs": [
    {
     "name": "stdout",
     "output_type": "stream",
     "text": [
      "First: 1\n",
      "Middle: [2, 3, 4, 5]\n",
      "Last: 6\n"
     ]
    }
   ],
   "source": [
    "# Define the List elements\n",
    "writeyourcodehere = [1, 2, 3, 4, 5, 6]\n",
    "\n",
    "# Unpack the list into first, middle, and last\n",
    "first, *middle, last = lst\n",
    "\n",
    "# Print the final results\n",
    "print(\"First:\", first) # print the first element\n",
    "print(\"Middle:\", middle) # print the middle element/s\n",
    "print(\"Last:\", last) # print the last element\n"
   ]
  },
  {
   "cell_type": "code",
   "execution_count": null,
   "id": "0ee81376-4c2e-4663-8643-49817bb6e671",
   "metadata": {},
   "outputs": [],
   "source": []
  }
 ],
 "metadata": {
  "kernelspec": {
   "display_name": "Python 3 (ipykernel)",
   "language": "python",
   "name": "python3"
  },
  "language_info": {
   "codemirror_mode": {
    "name": "ipython",
    "version": 3
   },
   "file_extension": ".py",
   "mimetype": "text/x-python",
   "name": "python",
   "nbconvert_exporter": "python",
   "pygments_lexer": "ipython3",
   "version": "3.12.4"
  }
 },
 "nbformat": 4,
 "nbformat_minor": 5
}
